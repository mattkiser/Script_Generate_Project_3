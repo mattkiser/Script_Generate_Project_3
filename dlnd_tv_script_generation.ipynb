{
 "cells": [
  {
   "cell_type": "markdown",
   "metadata": {
    "deletable": true,
    "editable": true
   },
   "source": [
    "# TV Script Generation\n",
    "In this project, you'll generate your own [Simpsons](https://en.wikipedia.org/wiki/The_Simpsons) TV scripts using RNNs.  You'll be using part of the [Simpsons dataset](https://www.kaggle.com/wcukierski/the-simpsons-by-the-data) of scripts from 27 seasons.  The Neural Network you'll build will generate a new TV script for a scene at [Moe's Tavern](https://simpsonswiki.com/wiki/Moe's_Tavern).\n",
    "## Get the Data\n",
    "The data is already provided for you.  You'll be using a subset of the original dataset.  It consists of only the scenes in Moe's Tavern.  This doesn't include other versions of the tavern, like \"Moe's Cavern\", \"Flaming Moe's\", \"Uncle Moe's Family Feed-Bag\", etc.."
   ]
  },
  {
   "cell_type": "code",
   "execution_count": 66,
   "metadata": {
    "collapsed": false,
    "deletable": true,
    "editable": true
   },
   "outputs": [],
   "source": [
    "\"\"\"\n",
    "DON'T MODIFY ANYTHING IN THIS CELL\n",
    "\"\"\"\n",
    "import helper\n",
    "\n",
    "data_dir = './data/simpsons/moes_tavern_lines.txt'\n",
    "text = helper.load_data(data_dir)\n",
    "# Ignore notice, since we don't use it for analysing the data\n",
    "text = text[81:]"
   ]
  },
  {
   "cell_type": "markdown",
   "metadata": {
    "deletable": true,
    "editable": true
   },
   "source": [
    "## Explore the Data\n",
    "Play around with `view_sentence_range` to view different parts of the data."
   ]
  },
  {
   "cell_type": "code",
   "execution_count": 67,
   "metadata": {
    "collapsed": false,
    "deletable": true,
    "editable": true
   },
   "outputs": [
    {
     "name": "stdout",
     "output_type": "stream",
     "text": [
      "Dataset Stats\n",
      "Roughly the number of unique words: 11492\n",
      "Number of scenes: 262\n",
      "Average number of sentences in each scene: 15.248091603053435\n",
      "Number of lines: 4257\n",
      "Average number of words in each line: 11.50434578341555\n",
      "\n",
      "The sentences 0 to 10:\n",
      "Moe_Szyslak: (INTO PHONE) Moe's Tavern. Where the elite meet to drink.\n",
      "Bart_Simpson: Eh, yeah, hello, is Mike there? Last name, Rotch.\n",
      "Moe_Szyslak: (INTO PHONE) Hold on, I'll check. (TO BARFLIES) Mike Rotch. Mike Rotch. Hey, has anybody seen Mike Rotch, lately?\n",
      "Moe_Szyslak: (INTO PHONE) Listen you little puke. One of these days I'm gonna catch you, and I'm gonna carve my name on your back with an ice pick.\n",
      "Moe_Szyslak: What's the matter Homer? You're not your normal effervescent self.\n",
      "Homer_Simpson: I got my problems, Moe. Give me another one.\n",
      "Moe_Szyslak: Homer, hey, you should not drink to forget your problems.\n",
      "Barney_Gumble: Yeah, you should only drink to enhance your social skills.\n",
      "\n",
      "\n"
     ]
    }
   ],
   "source": [
    "view_sentence_range = (0, 10)\n",
    "\n",
    "\"\"\"\n",
    "DON'T MODIFY ANYTHING IN THIS CELL\n",
    "\"\"\"\n",
    "import numpy as np\n",
    "\n",
    "print('Dataset Stats')\n",
    "print('Roughly the number of unique words: {}'.format(len({word: None for word in text.split()})))\n",
    "scenes = text.split('\\n\\n')\n",
    "print('Number of scenes: {}'.format(len(scenes)))\n",
    "sentence_count_scene = [scene.count('\\n') for scene in scenes]\n",
    "print('Average number of sentences in each scene: {}'.format(np.average(sentence_count_scene)))\n",
    "\n",
    "sentences = [sentence for scene in scenes for sentence in scene.split('\\n')]\n",
    "print('Number of lines: {}'.format(len(sentences)))\n",
    "word_count_sentence = [len(sentence.split()) for sentence in sentences]\n",
    "print('Average number of words in each line: {}'.format(np.average(word_count_sentence)))\n",
    "\n",
    "print()\n",
    "print('The sentences {} to {}:'.format(*view_sentence_range))\n",
    "print('\\n'.join(text.split('\\n')[view_sentence_range[0]:view_sentence_range[1]]))"
   ]
  },
  {
   "cell_type": "markdown",
   "metadata": {
    "deletable": true,
    "editable": true
   },
   "source": [
    "## Implement Preprocessing Functions\n",
    "The first thing to do to any dataset is preprocessing.  Implement the following preprocessing functions below:\n",
    "- Lookup Table\n",
    "- Tokenize Punctuation\n",
    "\n",
    "### Lookup Table\n",
    "To create a word embedding, you first need to transform the words to ids.  In this function, create two dictionaries:\n",
    "- Dictionary to go from the words to an id, we'll call `vocab_to_int`\n",
    "- Dictionary to go from the id to word, we'll call `int_to_vocab`\n",
    "\n",
    "Return these dictionaries in the following tuple `(vocab_to_int, int_to_vocab)`"
   ]
  },
  {
   "cell_type": "code",
   "execution_count": 68,
   "metadata": {
    "collapsed": false,
    "deletable": true,
    "editable": true
   },
   "outputs": [
    {
     "name": "stdout",
     "output_type": "stream",
     "text": [
      "Tests Passed\n"
     ]
    }
   ],
   "source": [
    "import numpy as np\n",
    "import problem_unittests as tests\n",
    "\n",
    "def create_lookup_tables(text):\n",
    "    \"\"\"\n",
    "    Create lookup tables for vocabulary\n",
    "    :param text: The text of tv scripts split into words\n",
    "    :return: A tuple of dicts (vocab_to_int, int_to_vocab)\n",
    "    \"\"\"\n",
    "    vocab = set(text)\n",
    "    vocab_to_int = {c: i for i, c in enumerate(vocab)}\n",
    "    int_to_vocab = dict(enumerate(vocab))\n",
    "    return vocab_to_int, int_to_vocab\n",
    "\n",
    "\n",
    "\"\"\"\n",
    "DON'T MODIFY ANYTHING IN THIS CELL THAT IS BELOW THIS LINE\n",
    "\"\"\"\n",
    "tests.test_create_lookup_tables(create_lookup_tables)"
   ]
  },
  {
   "cell_type": "markdown",
   "metadata": {
    "deletable": true,
    "editable": true
   },
   "source": [
    "### Tokenize Punctuation\n",
    "We'll be splitting the script into a word array using spaces as delimiters.  However, punctuations like periods and exclamation marks make it hard for the neural network to distinguish between the word \"bye\" and \"bye!\".\n",
    "\n",
    "Implement the function `token_lookup` to return a dict that will be used to tokenize symbols like \"!\" into \"||Exclamation_Mark||\".  Create a dictionary for the following symbols where the symbol is the key and value is the token:\n",
    "- Period ( . )\n",
    "- Comma ( , )\n",
    "- Quotation Mark ( \" )\n",
    "- Semicolon ( ; )\n",
    "- Exclamation mark ( ! )\n",
    "- Question mark ( ? )\n",
    "- Left Parentheses ( ( )\n",
    "- Right Parentheses ( ) )\n",
    "- Dash ( -- )\n",
    "- Return ( \\n )\n",
    "\n",
    "This dictionary will be used to token the symbols and add the delimiter (space) around it.  This separates the symbols as it's own word, making it easier for the neural network to predict on the next word. Make sure you don't use a token that could be confused as a word. Instead of using the token \"dash\", try using something like \"||dash||\"."
   ]
  },
  {
   "cell_type": "code",
   "execution_count": 69,
   "metadata": {
    "collapsed": false,
    "deletable": true,
    "editable": true
   },
   "outputs": [
    {
     "name": "stdout",
     "output_type": "stream",
     "text": [
      "Tests Passed\n"
     ]
    }
   ],
   "source": [
    "def token_lookup():\n",
    "    \"\"\"\n",
    "    Generate a dict to turn punctuation into a token.\n",
    "    :return: Tokenize dictionary where the key is the punctuation and the value is the token\n",
    "    \"\"\"\n",
    "    tokens = {\".\" : \"||Period||\",\n",
    "              \",\" : \"||Comma||\",\n",
    "              \"\\\"\" : \"||Quotation_mark||\",\n",
    "              \";\" : \"||Semicolon||\",\n",
    "              \"!\" : \"||Exclamation_mark||\",\n",
    "              \"?\" : \"||Question_mark||\",\n",
    "              \"(\" : \"||Left_parantheses||\",\n",
    "              \")\" : \"||Right_parantheses||\",\n",
    "              \"--\" : \"||Dash||\",\n",
    "              \"\\n\" : \"||Return||\",\n",
    "             }\n",
    "    return tokens\n",
    "\n",
    "\"\"\"\n",
    "DON'T MODIFY ANYTHING IN THIS CELL THAT IS BELOW THIS LINE\n",
    "\"\"\"\n",
    "tests.test_tokenize(token_lookup)"
   ]
  },
  {
   "cell_type": "markdown",
   "metadata": {
    "deletable": true,
    "editable": true
   },
   "source": [
    "## Preprocess all the data and save it\n",
    "Running the code cell below will preprocess all the data and save it to file."
   ]
  },
  {
   "cell_type": "code",
   "execution_count": 70,
   "metadata": {
    "collapsed": false,
    "deletable": true,
    "editable": true
   },
   "outputs": [],
   "source": [
    "\"\"\"\n",
    "DON'T MODIFY ANYTHING IN THIS CELL\n",
    "\"\"\"\n",
    "# Preprocess Training, Validation, and Testing Data\n",
    "helper.preprocess_and_save_data(data_dir, token_lookup, create_lookup_tables)"
   ]
  },
  {
   "cell_type": "markdown",
   "metadata": {
    "deletable": true,
    "editable": true
   },
   "source": [
    "# Check Point\n",
    "This is your first checkpoint. If you ever decide to come back to this notebook or have to restart the notebook, you can start from here. The preprocessed data has been saved to disk."
   ]
  },
  {
   "cell_type": "code",
   "execution_count": 6,
   "metadata": {
    "collapsed": false,
    "deletable": true,
    "editable": true
   },
   "outputs": [],
   "source": [
    "\"\"\"\n",
    "DON'T MODIFY ANYTHING IN THIS CELL\n",
    "\"\"\"\n",
    "import helper\n",
    "import numpy as np\n",
    "import problem_unittests as tests\n",
    "\n",
    "int_text, vocab_to_int, int_to_vocab, token_dict = helper.load_preprocess()"
   ]
  },
  {
   "cell_type": "markdown",
   "metadata": {
    "deletable": true,
    "editable": true
   },
   "source": [
    "## Build the Neural Network\n",
    "You'll build the components necessary to build a RNN by implementing the following functions below:\n",
    "- get_inputs\n",
    "- get_init_cell\n",
    "- get_embed\n",
    "- build_rnn\n",
    "- build_nn\n",
    "- get_batches\n",
    "\n",
    "### Check the Version of TensorFlow and Access to GPU"
   ]
  },
  {
   "cell_type": "code",
   "execution_count": 7,
   "metadata": {
    "collapsed": false,
    "deletable": true,
    "editable": true
   },
   "outputs": [
    {
     "name": "stdout",
     "output_type": "stream",
     "text": [
      "TensorFlow Version: 1.0.0\n",
      "Default GPU Device: /gpu:0\n"
     ]
    }
   ],
   "source": [
    "\"\"\"\n",
    "DON'T MODIFY ANYTHING IN THIS CELL\n",
    "\"\"\"\n",
    "from distutils.version import LooseVersion\n",
    "import warnings\n",
    "import tensorflow as tf\n",
    "\n",
    "# Check TensorFlow Version\n",
    "assert LooseVersion(tf.__version__) >= LooseVersion('1.0'), 'Please use TensorFlow version 1.0 or newer'\n",
    "print('TensorFlow Version: {}'.format(tf.__version__))\n",
    "\n",
    "# Check for a GPU\n",
    "if not tf.test.gpu_device_name():\n",
    "    warnings.warn('No GPU found. Please use a GPU to train your neural network.')\n",
    "else:\n",
    "    print('Default GPU Device: {}'.format(tf.test.gpu_device_name()))"
   ]
  },
  {
   "cell_type": "markdown",
   "metadata": {
    "deletable": true,
    "editable": true
   },
   "source": [
    "### Input\n",
    "Implement the `get_inputs()` function to create TF Placeholders for the Neural Network.  It should create the following placeholders:\n",
    "- Input text placeholder named \"input\" using the [TF Placeholder](https://www.tensorflow.org/api_docs/python/tf/placeholder) `name` parameter.\n",
    "- Targets placeholder\n",
    "- Learning Rate placeholder\n",
    "\n",
    "Return the placeholders in the following the tuple `(Input, Targets, LearingRate)`"
   ]
  },
  {
   "cell_type": "code",
   "execution_count": 8,
   "metadata": {
    "collapsed": false,
    "deletable": true,
    "editable": true
   },
   "outputs": [
    {
     "name": "stdout",
     "output_type": "stream",
     "text": [
      "Tests Passed\n"
     ]
    }
   ],
   "source": [
    "def get_inputs():\n",
    "    \"\"\"\n",
    "    Create TF Placeholders for input, targets, and learning rate.\n",
    "    :return: Tuple (input, targets, learning rate)\n",
    "    \"\"\"\n",
    "    # TODO: Implement Function\n",
    "    inputs = tf.placeholder(tf.int32, [None, None], name=\"input\") \n",
    "    \n",
    "    #settting the shape to [None, None] allows us to use varying shapes of inputs (i.e. different length sentences)\n",
    "    \n",
    "    targets = tf.placeholder(tf.int32, [None, None], name=\"targets\")\n",
    "    \n",
    "    #similar to the inputs, settting the shape to [None, None] allows us to use \n",
    "    #varying shapes of targets (i.e. different length target sentences)\n",
    "    \n",
    "    \n",
    "    learning_rate = tf.placeholder(tf.float32, name=\"learning_rate\")\n",
    "    \n",
    "    \n",
    "    return inputs, targets, learning_rate\n",
    "\n",
    "\n",
    "\"\"\"\n",
    "DON'T MODIFY ANYTHING IN THIS CELL THAT IS BELOW THIS LINE\n",
    "\"\"\"\n",
    "tests.test_get_inputs(get_inputs)"
   ]
  },
  {
   "cell_type": "markdown",
   "metadata": {
    "deletable": true,
    "editable": true
   },
   "source": [
    "### Build RNN Cell and Initialize\n",
    "Stack one or more [`BasicLSTMCells`](https://www.tensorflow.org/api_docs/python/tf/contrib/rnn/BasicLSTMCell) in a [`MultiRNNCell`](https://www.tensorflow.org/api_docs/python/tf/contrib/rnn/MultiRNNCell).\n",
    "- The Rnn size should be set using `rnn_size`\n",
    "- Initalize Cell State using the MultiRNNCell's [`zero_state()`](https://www.tensorflow.org/api_docs/python/tf/contrib/rnn/MultiRNNCell#zero_state) function\n",
    "    - Apply the name \"initial_state\" to the initial state using [`tf.identity()`](https://www.tensorflow.org/api_docs/python/tf/identity)\n",
    "\n",
    "Return the cell and initial state in the following tuple `(Cell, InitialState)`"
   ]
  },
  {
   "cell_type": "code",
   "execution_count": 9,
   "metadata": {
    "collapsed": false,
    "deletable": true,
    "editable": true
   },
   "outputs": [
    {
     "name": "stdout",
     "output_type": "stream",
     "text": [
      "Tests Passed\n"
     ]
    }
   ],
   "source": [
    "def get_init_cell(batch_size, rnn_size):\n",
    "    \"\"\"\n",
    "    Create an RNN Cell and initialize it.\n",
    "    :param batch_size: Size of batches\n",
    "    :param rnn_size: Size of RNNs\n",
    "    :return: Tuple (cell, initialize state)\n",
    "    \"\"\"\n",
    "    lstm_layers = 3                         #   EDIT\n",
    "    #the number of layers of cells between input and the \"final output\" - I realize the recurrent nature of the \\\n",
    "    # system means there are multiple ways you could define \"final output\"\n",
    "    \n",
    "    keep_prob = 0.95                         #   EDIT\n",
    "    \n",
    "    # TODO: Implement Function\n",
    "    lstm = tf.contrib.rnn.LSTMCell(rnn_size)\n",
    "    \n",
    "    #rnn_size is the number of \"features\" in the word embedding so that it results in the correct size of the output\n",
    "    \n",
    "    # Add dropout to the cell\n",
    "    drop = tf.contrib.rnn.DropoutWrapper(lstm, output_keep_prob=keep_prob)\n",
    "    \n",
    "    # Stack up multiple LSTM layers, for deep learning\n",
    "    cell = tf.contrib.rnn.MultiRNNCell([drop] * lstm_layers)\n",
    "    \n",
    "    # Getting an initial state of all zeros\n",
    "    init_state = tf.identity(cell.zero_state(batch_size, tf.float32), name=\"initial_state\")\n",
    "    \n",
    "    return cell, init_state\n",
    "\n",
    "\n",
    "\"\"\"\n",
    "DON'T MODIFY ANYTHING IN THIS CELL THAT IS BELOW THIS LINE\n",
    "\"\"\"\n",
    "tests.test_get_init_cell(get_init_cell)"
   ]
  },
  {
   "cell_type": "markdown",
   "metadata": {
    "deletable": true,
    "editable": true
   },
   "source": [
    "### Word Embedding\n",
    "Apply embedding to `input_data` using TensorFlow.  Return the embedded sequence."
   ]
  },
  {
   "cell_type": "code",
   "execution_count": 10,
   "metadata": {
    "collapsed": false,
    "deletable": true,
    "editable": true
   },
   "outputs": [
    {
     "name": "stdout",
     "output_type": "stream",
     "text": [
      "Tests Passed\n"
     ]
    }
   ],
   "source": [
    "def get_embed(input_data, vocab_size, embed_dim):\n",
    "    \"\"\"\n",
    "    Create embedding for <input_data>.\n",
    "    :param input_data: TF placeholder for text input.\n",
    "    :param vocab_size: Number of words in vocabulary.\n",
    "    :param embed_dim: Number of embedding dimensions\n",
    "    :return: Embedded input.\n",
    "    \"\"\"\n",
    "    # TODO: Implement Function\n",
    "    embedding = tf.Variable(tf.random_uniform((vocab_size, embed_dim), -1, 1))\n",
    "    \n",
    "    #____________________________________________________\n",
    "    \n",
    "    \n",
    "    #Question: embed_dim will be the same as the \"rnn_size\" from the previous function right?\n",
    "    #Question: do we need to do the tf.random_uniform for the variable? How much does that help? \\\n",
    "    #(I used it based on the solution from Mat for the 'Sentiment RNN')\n",
    "    \n",
    "    #____________________________________________________\n",
    "    \n",
    "    \n",
    "    embed = tf.nn.embedding_lookup(embedding, input_data)\n",
    "    return embed\n",
    "\n",
    "\n",
    "\"\"\"\n",
    "DON'T MODIFY ANYTHING IN THIS CELL THAT IS BELOW THIS LINE\n",
    "\"\"\"\n",
    "tests.test_get_embed(get_embed)"
   ]
  },
  {
   "cell_type": "markdown",
   "metadata": {
    "deletable": true,
    "editable": true
   },
   "source": [
    "### Build RNN\n",
    "You created a RNN Cell in the `get_init_cell()` function.  Time to use the cell to create a RNN.\n",
    "- Build the RNN using the [`tf.nn.dynamic_rnn()`](https://www.tensorflow.org/api_docs/python/tf/nn/dynamic_rnn)\n",
    " - Apply the name \"final_state\" to the final state using [`tf.identity()`](https://www.tensorflow.org/api_docs/python/tf/identity)\n",
    "\n",
    "Return the outputs and final_state state in the following tuple `(Outputs, FinalState)` "
   ]
  },
  {
   "cell_type": "code",
   "execution_count": 11,
   "metadata": {
    "collapsed": false,
    "deletable": true,
    "editable": true
   },
   "outputs": [
    {
     "name": "stdout",
     "output_type": "stream",
     "text": [
      "Tests Passed\n"
     ]
    }
   ],
   "source": [
    "def build_rnn(cell, inputs):\n",
    "    \"\"\"\n",
    "    Create a RNN using a RNN Cell\n",
    "    :param cell: RNN Cell\n",
    "    :param inputs: Input text data\n",
    "    :return: Tuple (Outputs, Final State)\n",
    "    \"\"\"\n",
    "    # TODO: Implement Function\n",
    "    outputs, final_state = tf.nn.dynamic_rnn(cell, inputs, dtype=tf.float32)\n",
    "    \n",
    "    #_______________________________________________________________\n",
    "    \n",
    "    #Question: should I be calling initial_state in this dynamic_rnn? it doesn't let me do that \\\n",
    "    #Is the default setting fine with that\n",
    "    \n",
    "    #_______________________________________________________________\n",
    "    \n",
    "    outputs = tf.identity(outputs, name=\"Outputs\")\n",
    "    \n",
    "    final_state = tf.identity(final_state, name=\"final_state\")\n",
    "    \n",
    "    return outputs, final_state\n",
    "\n",
    "\n",
    "\"\"\"\n",
    "DON'T MODIFY ANYTHING IN THIS CELL THAT IS BELOW THIS LINE\n",
    "\"\"\"\n",
    "tests.test_build_rnn(build_rnn)"
   ]
  },
  {
   "cell_type": "markdown",
   "metadata": {
    "deletable": true,
    "editable": true
   },
   "source": [
    "### Build the Neural Network\n",
    "Apply the functions you implemented above to:\n",
    "- Apply embedding to `input_data` using your `get_embed(input_data, vocab_size, embed_dim)` function.\n",
    "- Build RNN using `cell` and your `build_rnn(cell, inputs)` function.\n",
    "- Apply a fully connected layer with a linear activation and `vocab_size` as the number of outputs.\n",
    "\n",
    "Return the logits and final state in the following tuple (Logits, FinalState) "
   ]
  },
  {
   "cell_type": "code",
   "execution_count": 12,
   "metadata": {
    "collapsed": false,
    "deletable": true,
    "editable": true
   },
   "outputs": [
    {
     "name": "stdout",
     "output_type": "stream",
     "text": [
      "Tests Passed\n"
     ]
    }
   ],
   "source": [
    "def build_nn(cell, rnn_size, input_data, vocab_size):\n",
    "    \"\"\"\n",
    "    Build part of the neural network\n",
    "    :param cell: RNN cell\n",
    "    :param rnn_size: Size of rnns\n",
    "    :param input_data: Input data\n",
    "    :param vocab_size: Vocabulary size\n",
    "    :return: Tuple (Logits, FinalState)\n",
    "    \"\"\"\n",
    "    # TODO: Implement Function\n",
    "    embed_dim = 350     #the number of \"features\" for each word\n",
    "    batch_size = 100     #batch_size\n",
    "    \n",
    "    \n",
    "    embed = get_embed(input_data, vocab_size, embed_dim)\n",
    "    get_init_cell(batch_size, rnn_size)\n",
    "\n",
    "    outputs, final_state = build_rnn(cell, embed)\n",
    "    logits = tf.contrib.layers.fully_connected(outputs, vocab_size , activation_fn=None)\n",
    "\n",
    "    logits = tf.identity(logits, name=\"logits\")\n",
    "    return logits, final_state\n",
    "\n",
    "\n",
    "\"\"\"\n",
    "DON'T MODIFY ANYTHING IN THIS CELL THAT IS BELOW THIS LINE\n",
    "\"\"\"\n",
    "tests.test_build_nn(build_nn)"
   ]
  },
  {
   "cell_type": "markdown",
   "metadata": {
    "deletable": true,
    "editable": true
   },
   "source": [
    "### Batches\n",
    "Implement `get_batches` to create batches of input and targets using `int_text`.  The batches should be a Numpy array with the shape `(number of batches, 2, batch size, sequence length)`. Each batch contains two elements:\n",
    "- The first element is a single batch of **input** with the shape `[batch size, sequence length]`\n",
    "- The second element is a single batch of **targets** with the shape `[batch size, sequence length]`\n",
    "\n",
    "If you can't fill the last batch with enough data, drop the last batch.\n",
    "\n",
    "For exmple, `get_batches([1, 2, 3, 4, 5, 6, 7, 8, 9, 10, 11, 12, 13, 14, 15], 2, 3)` would return a Numpy array of the following:\n",
    "```\n",
    "[\n",
    "  # First Batch\n",
    "  [\n",
    "    # Batch of Input\n",
    "    [[ 1  2  3], [ 7  8  9]],\n",
    "    # Batch of targets\n",
    "    [[ 2  3  4], [ 8  9 10]]\n",
    "  ],\n",
    " \n",
    "  # Second Batch\n",
    "  [\n",
    "    # Batch of Input\n",
    "    [[ 4  5  6], [10 11 12]],\n",
    "    # Batch of targets\n",
    "    [[ 5  6  7], [11 12 13]]\n",
    "  ]\n",
    "]\n",
    "```"
   ]
  },
  {
   "cell_type": "code",
   "execution_count": 13,
   "metadata": {
    "collapsed": false,
    "deletable": true,
    "editable": true
   },
   "outputs": [
    {
     "name": "stdout",
     "output_type": "stream",
     "text": [
      "[ 1  2  3  4  5  6  7  8  9 10 11 12 13 14 15] \n",
      " \n",
      " shape: (15,) \n",
      "\n"
     ]
    }
   ],
   "source": [
    "a = np.array([1, 2, 3, 4, 5, 6, 7, 8, 9, 10, 11, 12, 13, 14, 15])\n",
    "print(a, \"\\n \\n shape:\", a.shape, '\\n')\n"
   ]
  },
  {
   "cell_type": "code",
   "execution_count": 14,
   "metadata": {
    "collapsed": false,
    "deletable": true,
    "editable": true
   },
   "outputs": [
    {
     "data": {
      "text/plain": [
       "2"
      ]
     },
     "execution_count": 14,
     "metadata": {},
     "output_type": "execute_result"
    }
   ],
   "source": [
    "batch_size_test = 2\n",
    "seq_length_test = 3\n",
    "\n",
    "n_batches_test = int(len(a) / (batch_size_test * seq_length_test))\n",
    "n_batches_test"
   ]
  },
  {
   "cell_type": "code",
   "execution_count": 15,
   "metadata": {
    "collapsed": false,
    "deletable": true,
    "editable": true
   },
   "outputs": [
    {
     "name": "stdout",
     "output_type": "stream",
     "text": [
      "[ 1  2  3  4  5  6  7  8  9 10 11 12] \n",
      " \n",
      " shape: (12,) \n",
      "\n",
      "[ 2  3  4  5  6  7  8  9 10 11 12 13] \n",
      " \n",
      " shape: (12,)\n"
     ]
    }
   ],
   "source": [
    "x_b = a[:n_batches_test * batch_size_test * seq_length_test]\n",
    "y_b = a[1:n_batches_test * batch_size_test * seq_length_test+1]\n",
    "print(x_b, \"\\n \\n shape:\", x_b.shape, '\\n')\n",
    "print(y_b, \"\\n \\n shape:\", y_b.shape)"
   ]
  },
  {
   "cell_type": "code",
   "execution_count": 16,
   "metadata": {
    "collapsed": false,
    "deletable": true,
    "editable": true
   },
   "outputs": [
    {
     "name": "stdout",
     "output_type": "stream",
     "text": [
      "[[ 1  2  3  4  5  6]\n",
      " [ 7  8  9 10 11 12]] \n",
      " \n",
      " shape: (2, 6) \n",
      "\n",
      "[[ 2  3  4  5  6  7]\n",
      " [ 8  9 10 11 12 13]] \n",
      " \n",
      " shape: (2, 6)\n"
     ]
    }
   ],
   "source": [
    "x_c = np.array(x_b.reshape(n_batches_test,-1))\n",
    "y_c = np.array(y_b.reshape(n_batches_test, -1))\n",
    "print(x_c, \"\\n \\n shape:\", x_c.shape, '\\n')\n",
    "print(y_c, \"\\n \\n shape:\", y_c.shape)"
   ]
  },
  {
   "cell_type": "code",
   "execution_count": 17,
   "metadata": {
    "collapsed": false,
    "deletable": true,
    "editable": true
   },
   "outputs": [
    {
     "name": "stdout",
     "output_type": "stream",
     "text": [
      "[[[ 1  2  3]\n",
      "  [ 7  8  9]]\n",
      "\n",
      " [[ 4  5  6]\n",
      "  [10 11 12]]] \n",
      " \n",
      " shape: (2, 2, 3) \n",
      "\n",
      "[[[ 2  3  4]\n",
      "  [ 8  9 10]]\n",
      "\n",
      " [[ 5  6  7]\n",
      "  [11 12 13]]] \n",
      " \n",
      " shape: (2, 2, 3)\n"
     ]
    }
   ],
   "source": [
    "x_d = np.array(np.split(x_c, n_batches_test, 1))\n",
    "y_d = np.array(np.split(y_c, n_batches_test, 1))\n",
    "print(x_d, \"\\n \\n shape:\", x_d.shape, '\\n')\n",
    "print(y_d, \"\\n \\n shape:\", y_d.shape)"
   ]
  },
  {
   "cell_type": "code",
   "execution_count": 18,
   "metadata": {
    "collapsed": false,
    "deletable": true,
    "editable": true
   },
   "outputs": [
    {
     "name": "stdout",
     "output_type": "stream",
     "text": [
      "[[[[ 1  2  3]\n",
      "   [ 7  8  9]]\n",
      "\n",
      "  [[ 2  3  4]\n",
      "   [ 8  9 10]]]\n",
      "\n",
      "\n",
      " [[[ 4  5  6]\n",
      "   [10 11 12]]\n",
      "\n",
      "  [[ 5  6  7]\n",
      "   [11 12 13]]]] \n",
      " \n",
      " shape: (2, 2, 2, 3)\n"
     ]
    }
   ],
   "source": [
    "final = np.array(list(zip(x_d, y_d)))\n",
    "print(final, \"\\n \\n shape:\",final.shape)"
   ]
  },
  {
   "cell_type": "code",
   "execution_count": 19,
   "metadata": {
    "collapsed": false,
    "deletable": true,
    "editable": true
   },
   "outputs": [
    {
     "name": "stdout",
     "output_type": "stream",
     "text": [
      "Tests Passed\n"
     ]
    }
   ],
   "source": [
    "def get_batches(int_text, batch_size, seq_length):\n",
    "    \"\"\"\n",
    "    Return batches of input and target\n",
    "    :param int_text: Text with the words replaced by their ids\n",
    "    :param batch_size: The size of batch\n",
    "    :param seq_length: The length of sequence\n",
    "    :return: Batches as a Numpy array\n",
    "    \"\"\"\n",
    "    # TODO: Implement Function\n",
    "    n_batches = int(len(int_text)/(batch_size * seq_length))\n",
    "    #the number of words in the entire text divided by the batch size times the sequence length \\\n",
    "    # so if there are 1050 words in the text and the batch size is 50 and the seq_length is 5, then there would be \\\n",
    "    # a grand total of 4 batches (see how it takes out the 50 last words with the int()?)\n",
    "    \n",
    "    xdata, ydata = np.array(int_text[:n_batches*batch_size*seq_length]), np.array(int_text[1:n_batches*batch_size*seq_length+1])\n",
    "    #this is splitting the text into 'xdata' which is the first 1000 (4 * 50 * 5) words in the text \\\n",
    "    #and the 'ydata' is just offset by 1 because the target x_i is x_{i+1}\n",
    "    \n",
    "    x_batches = np.split(xdata.reshape(batch_size, -1), n_batches, 1)\n",
    "    #please see above for breaking this down, but basically you first split it into the batches \\\n",
    "    #then split into the sequence length because that is the inputs for our training due to computing cost and efficiency\n",
    "    \n",
    "    \n",
    "    y_batches = np.split(ydata.reshape(batch_size, -1), n_batches, 1)\n",
    "    #same commentary as above\n",
    "    \n",
    "    #the below zips them up, I'm not entirely sure how zip() works, i haven't found a good resource that explains it\n",
    "    #Question: any suggestions for a resource that explains zip()?\n",
    "    return np.array(list(zip(x_batches, y_batches)))\n",
    "\n",
    "\n",
    "\"\"\"\n",
    "DON'T MODIFY ANYTHING IN THIS CELL THAT IS BELOW THIS LINE\n",
    "\"\"\"\n",
    "tests.test_get_batches(get_batches)"
   ]
  },
  {
   "cell_type": "markdown",
   "metadata": {
    "deletable": true,
    "editable": true
   },
   "source": [
    "## Neural Network Training\n",
    "### Hyperparameters\n",
    "Tune the following parameters:\n",
    "\n",
    "- Set `num_epochs` to the number of epochs.\n",
    "- Set `batch_size` to the batch size.\n",
    "- Set `rnn_size` to the size of the RNNs.\n",
    "- Set `seq_length` to the length of sequence.\n",
    "- Set `learning_rate` to the learning rate.\n",
    "- Set `show_every_n_batches` to the number of batches the neural network should print progress."
   ]
  },
  {
   "cell_type": "code",
   "execution_count": 20,
   "metadata": {
    "collapsed": true,
    "deletable": true,
    "editable": true
   },
   "outputs": [],
   "source": [
    "# Number of Epochs\n",
    "num_epochs = 150\n",
    "# Batch Size\n",
    "batch_size = 100\n",
    "# RNN Size\n",
    "rnn_size = 350\n",
    "# Sequence Length\n",
    "seq_length = 10\n",
    "# Learning Rate\n",
    "learning_rate = 0.01\n",
    "# Show stats for every n number of batches\n",
    "show_every_n_batches = 69\n",
    "\n",
    "\"\"\"\n",
    "DON'T MODIFY ANYTHING IN THIS CELL THAT IS BELOW THIS LINE\n",
    "\"\"\"\n",
    "save_dir = './save'"
   ]
  },
  {
   "cell_type": "markdown",
   "metadata": {
    "deletable": true,
    "editable": true
   },
   "source": [
    "### Build the Graph\n",
    "Build the graph using the neural network you implemented."
   ]
  },
  {
   "cell_type": "code",
   "execution_count": 21,
   "metadata": {
    "collapsed": false,
    "deletable": true,
    "editable": true
   },
   "outputs": [],
   "source": [
    "\"\"\"\n",
    "DON'T MODIFY ANYTHING IN THIS CELL\n",
    "\"\"\"\n",
    "from tensorflow.contrib import seq2seq\n",
    "\n",
    "train_graph = tf.Graph()\n",
    "with train_graph.as_default():\n",
    "    vocab_size = len(int_to_vocab)\n",
    "    input_text, targets, lr = get_inputs()\n",
    "    input_data_shape = tf.shape(input_text)\n",
    "    cell, initial_state = get_init_cell(input_data_shape[0], rnn_size)\n",
    "    logits, final_state = build_nn(cell, rnn_size, input_text, vocab_size)\n",
    "\n",
    "    # Probabilities for generating words\n",
    "    probs = tf.nn.softmax(logits, name='probs')\n",
    "\n",
    "    # Loss function\n",
    "    cost = seq2seq.sequence_loss(\n",
    "        logits,\n",
    "        targets,\n",
    "        tf.ones([input_data_shape[0], input_data_shape[1]]))\n",
    "\n",
    "    # Optimizer\n",
    "    optimizer = tf.train.AdamOptimizer(lr)\n",
    "\n",
    "    # Gradient Clipping\n",
    "    gradients = optimizer.compute_gradients(cost)\n",
    "    capped_gradients = [(tf.clip_by_value(grad, -1., 1.), var) for grad, var in gradients]\n",
    "    train_op = optimizer.apply_gradients(capped_gradients)"
   ]
  },
  {
   "cell_type": "markdown",
   "metadata": {
    "deletable": true,
    "editable": true
   },
   "source": [
    "## Train\n",
    "Train the neural network on the preprocessed data.  If you have a hard time getting a good loss, check the [forms](https://discussions.udacity.com/) to see if anyone is having the same problem."
   ]
  },
  {
   "cell_type": "code",
   "execution_count": 22,
   "metadata": {
    "collapsed": false,
    "deletable": true,
    "editable": true
   },
   "outputs": [
    {
     "name": "stdout",
     "output_type": "stream",
     "text": [
      "Epoch   0 Batch    0/69   train_loss = 8.821\n",
      "Epoch   1 Batch    0/69   train_loss = 6.428\n",
      "Epoch   2 Batch    0/69   train_loss = 5.964\n",
      "Epoch   3 Batch    0/69   train_loss = 5.408\n",
      "Epoch   4 Batch    0/69   train_loss = 5.021\n",
      "Epoch   5 Batch    0/69   train_loss = 4.669\n",
      "Epoch   6 Batch    0/69   train_loss = 4.530\n",
      "Epoch   7 Batch    0/69   train_loss = 4.472\n",
      "Epoch   8 Batch    0/69   train_loss = 4.353\n",
      "Epoch   9 Batch    0/69   train_loss = 4.247\n",
      "Epoch  10 Batch    0/69   train_loss = 4.061\n",
      "Epoch  11 Batch    0/69   train_loss = 3.990\n",
      "Epoch  12 Batch    0/69   train_loss = 3.896\n",
      "Epoch  13 Batch    0/69   train_loss = 3.815\n",
      "Epoch  14 Batch    0/69   train_loss = 3.699\n",
      "Epoch  15 Batch    0/69   train_loss = 3.707\n",
      "Epoch  16 Batch    0/69   train_loss = 3.690\n",
      "Epoch  17 Batch    0/69   train_loss = 3.549\n",
      "Epoch  18 Batch    0/69   train_loss = 3.496\n",
      "Epoch  19 Batch    0/69   train_loss = 3.367\n",
      "Epoch  20 Batch    0/69   train_loss = 3.353\n",
      "Epoch  21 Batch    0/69   train_loss = 3.211\n",
      "Epoch  22 Batch    0/69   train_loss = 3.078\n",
      "Epoch  23 Batch    0/69   train_loss = 3.068\n",
      "Epoch  24 Batch    0/69   train_loss = 2.919\n",
      "Epoch  25 Batch    0/69   train_loss = 2.829\n",
      "Epoch  26 Batch    0/69   train_loss = 2.751\n",
      "Epoch  27 Batch    0/69   train_loss = 2.678\n",
      "Epoch  28 Batch    0/69   train_loss = 2.579\n",
      "Epoch  29 Batch    0/69   train_loss = 2.557\n",
      "Epoch  30 Batch    0/69   train_loss = 2.508\n",
      "Epoch  31 Batch    0/69   train_loss = 2.432\n",
      "Epoch  32 Batch    0/69   train_loss = 2.349\n",
      "Epoch  33 Batch    0/69   train_loss = 2.308\n",
      "Epoch  34 Batch    0/69   train_loss = 2.241\n",
      "Epoch  35 Batch    0/69   train_loss = 2.124\n",
      "Epoch  36 Batch    0/69   train_loss = 2.089\n",
      "Epoch  37 Batch    0/69   train_loss = 2.013\n",
      "Epoch  38 Batch    0/69   train_loss = 2.001\n",
      "Epoch  39 Batch    0/69   train_loss = 1.961\n",
      "Epoch  40 Batch    0/69   train_loss = 1.925\n",
      "Epoch  41 Batch    0/69   train_loss = 1.829\n",
      "Epoch  42 Batch    0/69   train_loss = 1.776\n",
      "Epoch  43 Batch    0/69   train_loss = 1.753\n",
      "Epoch  44 Batch    0/69   train_loss = 1.706\n",
      "Epoch  45 Batch    0/69   train_loss = 1.618\n",
      "Epoch  46 Batch    0/69   train_loss = 1.608\n",
      "Epoch  47 Batch    0/69   train_loss = 1.601\n",
      "Epoch  48 Batch    0/69   train_loss = 1.504\n",
      "Epoch  49 Batch    0/69   train_loss = 1.494\n",
      "Epoch  50 Batch    0/69   train_loss = 1.499\n",
      "Epoch  51 Batch    0/69   train_loss = 1.497\n",
      "Epoch  52 Batch    0/69   train_loss = 1.481\n",
      "Epoch  53 Batch    0/69   train_loss = 1.437\n",
      "Epoch  54 Batch    0/69   train_loss = 1.435\n",
      "Epoch  55 Batch    0/69   train_loss = 1.446\n",
      "Epoch  56 Batch    0/69   train_loss = 1.422\n",
      "Epoch  57 Batch    0/69   train_loss = 1.391\n",
      "Epoch  58 Batch    0/69   train_loss = 1.353\n",
      "Epoch  59 Batch    0/69   train_loss = 1.358\n",
      "Epoch  60 Batch    0/69   train_loss = 1.318\n",
      "Epoch  61 Batch    0/69   train_loss = 1.299\n",
      "Epoch  62 Batch    0/69   train_loss = 1.340\n",
      "Epoch  63 Batch    0/69   train_loss = 1.273\n",
      "Epoch  64 Batch    0/69   train_loss = 1.177\n",
      "Epoch  65 Batch    0/69   train_loss = 1.274\n",
      "Epoch  66 Batch    0/69   train_loss = 1.270\n",
      "Epoch  67 Batch    0/69   train_loss = 1.261\n",
      "Epoch  68 Batch    0/69   train_loss = 1.276\n",
      "Epoch  69 Batch    0/69   train_loss = 1.265\n",
      "Epoch  70 Batch    0/69   train_loss = 1.228\n",
      "Epoch  71 Batch    0/69   train_loss = 1.259\n",
      "Epoch  72 Batch    0/69   train_loss = 1.221\n",
      "Epoch  73 Batch    0/69   train_loss = 1.197\n",
      "Epoch  74 Batch    0/69   train_loss = 1.156\n",
      "Epoch  75 Batch    0/69   train_loss = 1.206\n",
      "Epoch  76 Batch    0/69   train_loss = 1.166\n",
      "Epoch  77 Batch    0/69   train_loss = 1.150\n",
      "Epoch  78 Batch    0/69   train_loss = 1.222\n",
      "Epoch  79 Batch    0/69   train_loss = 1.137\n",
      "Epoch  80 Batch    0/69   train_loss = 1.139\n",
      "Epoch  81 Batch    0/69   train_loss = 1.131\n",
      "Epoch  82 Batch    0/69   train_loss = 1.170\n",
      "Epoch  83 Batch    0/69   train_loss = 1.199\n",
      "Epoch  84 Batch    0/69   train_loss = 1.142\n",
      "Epoch  85 Batch    0/69   train_loss = 1.106\n",
      "Epoch  86 Batch    0/69   train_loss = 1.085\n",
      "Epoch  87 Batch    0/69   train_loss = 1.099\n",
      "Epoch  88 Batch    0/69   train_loss = 1.068\n",
      "Epoch  89 Batch    0/69   train_loss = 1.105\n",
      "Epoch  90 Batch    0/69   train_loss = 1.062\n",
      "Epoch  91 Batch    0/69   train_loss = 1.058\n",
      "Epoch  92 Batch    0/69   train_loss = 1.087\n",
      "Epoch  93 Batch    0/69   train_loss = 1.122\n",
      "Epoch  94 Batch    0/69   train_loss = 1.094\n",
      "Epoch  95 Batch    0/69   train_loss = 1.144\n",
      "Epoch  96 Batch    0/69   train_loss = 1.028\n",
      "Epoch  97 Batch    0/69   train_loss = 1.079\n",
      "Epoch  98 Batch    0/69   train_loss = 1.026\n",
      "Epoch  99 Batch    0/69   train_loss = 1.106\n",
      "Epoch 100 Batch    0/69   train_loss = 1.102\n",
      "Epoch 101 Batch    0/69   train_loss = 1.033\n",
      "Epoch 102 Batch    0/69   train_loss = 1.004\n",
      "Epoch 103 Batch    0/69   train_loss = 1.042\n",
      "Epoch 104 Batch    0/69   train_loss = 1.028\n",
      "Epoch 105 Batch    0/69   train_loss = 1.010\n",
      "Epoch 106 Batch    0/69   train_loss = 1.015\n",
      "Epoch 107 Batch    0/69   train_loss = 1.036\n",
      "Epoch 108 Batch    0/69   train_loss = 1.016\n",
      "Epoch 109 Batch    0/69   train_loss = 1.088\n",
      "Epoch 110 Batch    0/69   train_loss = 1.066\n",
      "Epoch 111 Batch    0/69   train_loss = 1.037\n",
      "Epoch 112 Batch    0/69   train_loss = 1.058\n",
      "Epoch 113 Batch    0/69   train_loss = 1.043\n",
      "Epoch 114 Batch    0/69   train_loss = 1.000\n",
      "Epoch 115 Batch    0/69   train_loss = 1.069\n",
      "Epoch 116 Batch    0/69   train_loss = 1.024\n",
      "Epoch 117 Batch    0/69   train_loss = 1.009\n",
      "Epoch 118 Batch    0/69   train_loss = 1.034\n",
      "Epoch 119 Batch    0/69   train_loss = 1.033\n",
      "Epoch 120 Batch    0/69   train_loss = 0.985\n",
      "Epoch 121 Batch    0/69   train_loss = 1.033\n",
      "Epoch 122 Batch    0/69   train_loss = 1.008\n",
      "Epoch 123 Batch    0/69   train_loss = 0.961\n",
      "Epoch 124 Batch    0/69   train_loss = 1.081\n",
      "Epoch 125 Batch    0/69   train_loss = 0.953\n",
      "Epoch 126 Batch    0/69   train_loss = 0.995\n",
      "Epoch 127 Batch    0/69   train_loss = 1.010\n",
      "Epoch 128 Batch    0/69   train_loss = 1.014\n",
      "Epoch 129 Batch    0/69   train_loss = 0.993\n",
      "Epoch 130 Batch    0/69   train_loss = 0.967\n",
      "Epoch 131 Batch    0/69   train_loss = 0.979\n",
      "Epoch 132 Batch    0/69   train_loss = 1.003\n",
      "Epoch 133 Batch    0/69   train_loss = 0.994\n",
      "Epoch 134 Batch    0/69   train_loss = 0.955\n",
      "Epoch 135 Batch    0/69   train_loss = 0.983\n",
      "Epoch 136 Batch    0/69   train_loss = 0.994\n",
      "Epoch 137 Batch    0/69   train_loss = 0.967\n",
      "Epoch 138 Batch    0/69   train_loss = 0.916\n",
      "Epoch 139 Batch    0/69   train_loss = 0.981\n",
      "Epoch 140 Batch    0/69   train_loss = 0.956\n",
      "Epoch 141 Batch    0/69   train_loss = 0.979\n",
      "Epoch 142 Batch    0/69   train_loss = 0.992\n",
      "Epoch 143 Batch    0/69   train_loss = 1.000\n",
      "Epoch 144 Batch    0/69   train_loss = 0.979\n",
      "Epoch 145 Batch    0/69   train_loss = 0.943\n",
      "Epoch 146 Batch    0/69   train_loss = 1.029\n",
      "Epoch 147 Batch    0/69   train_loss = 0.941\n",
      "Epoch 148 Batch    0/69   train_loss = 0.992\n",
      "Epoch 149 Batch    0/69   train_loss = 0.958\n",
      "Model Trained and Saved\n"
     ]
    }
   ],
   "source": [
    "\"\"\"\n",
    "DON'T MODIFY ANYTHING IN THIS CELL\n",
    "\"\"\"\n",
    "batches = get_batches(int_text, batch_size, seq_length)\n",
    "\n",
    "with tf.Session(graph=train_graph) as sess:\n",
    "    sess.run(tf.global_variables_initializer())\n",
    "\n",
    "    for epoch_i in range(num_epochs):\n",
    "        state = sess.run(initial_state, {input_text: batches[0][0]})\n",
    "\n",
    "        for batch_i, (x, y) in enumerate(batches):\n",
    "            feed = {\n",
    "                input_text: x,\n",
    "                targets: y,\n",
    "                initial_state: state,\n",
    "                lr: learning_rate}\n",
    "            train_loss, state, _ = sess.run([cost, final_state, train_op], feed)\n",
    "\n",
    "            # Show every <show_every_n_batches> batches\n",
    "            if (epoch_i * len(batches) + batch_i) % show_every_n_batches == 0:\n",
    "                print('Epoch {:>3} Batch {:>4}/{}   train_loss = {:.3f}'.format(\n",
    "                    epoch_i,\n",
    "                    batch_i,\n",
    "                    len(batches),\n",
    "                    train_loss))\n",
    "\n",
    "    # Save Model\n",
    "    saver = tf.train.Saver()\n",
    "    saver.save(sess, save_dir)\n",
    "    print('Model Trained and Saved')"
   ]
  },
  {
   "cell_type": "markdown",
   "metadata": {
    "deletable": true,
    "editable": true
   },
   "source": [
    "## Save Parameters\n",
    "Save `seq_length` and `save_dir` for generating a new TV script."
   ]
  },
  {
   "cell_type": "code",
   "execution_count": 23,
   "metadata": {
    "collapsed": false,
    "deletable": true,
    "editable": true
   },
   "outputs": [],
   "source": [
    "\"\"\"\n",
    "DON'T MODIFY ANYTHING IN THIS CELL\n",
    "\"\"\"\n",
    "# Save parameters for checkpoint\n",
    "helper.save_params((seq_length, save_dir))"
   ]
  },
  {
   "cell_type": "markdown",
   "metadata": {
    "deletable": true,
    "editable": true
   },
   "source": [
    "# Checkpoint"
   ]
  },
  {
   "cell_type": "code",
   "execution_count": 24,
   "metadata": {
    "collapsed": false,
    "deletable": true,
    "editable": true
   },
   "outputs": [],
   "source": [
    "\"\"\"\n",
    "DON'T MODIFY ANYTHING IN THIS CELL\n",
    "\"\"\"\n",
    "import tensorflow as tf\n",
    "import numpy as np\n",
    "import helper\n",
    "import problem_unittests as tests\n",
    "\n",
    "_, vocab_to_int, int_to_vocab, token_dict = helper.load_preprocess()\n",
    "seq_length, load_dir = helper.load_params()"
   ]
  },
  {
   "cell_type": "markdown",
   "metadata": {
    "deletable": true,
    "editable": true
   },
   "source": [
    "## Implement Generate Functions\n",
    "### Get Tensors\n",
    "Get tensors from `loaded_graph` using the function [`get_tensor_by_name()`](https://www.tensorflow.org/api_docs/python/tf/Graph#get_tensor_by_name).  Get the tensors using the following names:\n",
    "- \"input:0\"\n",
    "- \"initial_state:0\"\n",
    "- \"final_state:0\"\n",
    "- \"probs:0\"\n",
    "\n",
    "Return the tensors in the following tuple `(InputTensor, InitialStateTensor, FinalStateTensor, ProbsTensor)` "
   ]
  },
  {
   "cell_type": "code",
   "execution_count": 25,
   "metadata": {
    "collapsed": false,
    "deletable": true,
    "editable": true
   },
   "outputs": [
    {
     "name": "stdout",
     "output_type": "stream",
     "text": [
      "Tests Passed\n"
     ]
    }
   ],
   "source": [
    "def get_tensors(loaded_graph):\n",
    "    \"\"\"\n",
    "    Get input, initial state, final state, and probabilities tensor from <loaded_graph>\n",
    "    :param loaded_graph: TensorFlow graph loaded from file\n",
    "    :return: Tuple (InputTensor, InitialStateTensor, FinalStateTensor, ProbsTensor)\n",
    "    \"\"\"\n",
    "    # TODO: Implement Function \n",
    "    with loaded_graph.as_default():\n",
    "        inputs = tf.get_default_graph().get_tensor_by_name(name=\"input:0\")\n",
    "        init_state = tf.get_default_graph().get_tensor_by_name(name=\"initial_state:0\")\n",
    "        final_state = tf.get_default_graph().get_tensor_by_name(name=\"final_state:0\")\n",
    "        probs = tf.get_default_graph().get_tensor_by_name(name=\"probs:0\")\n",
    "    return inputs, init_state, final_state, probs\n",
    "\n",
    "\n",
    "\"\"\"\n",
    "DON'T MODIFY ANYTHING IN THIS CELL THAT IS BELOW THIS LINE\n",
    "\"\"\"\n",
    "tests.test_get_tensors(get_tensors)"
   ]
  },
  {
   "cell_type": "markdown",
   "metadata": {
    "deletable": true,
    "editable": true
   },
   "source": [
    "### Choose Word\n",
    "Implement the `pick_word()` function to select the next word using `probabilities`."
   ]
  },
  {
   "cell_type": "code",
   "execution_count": 26,
   "metadata": {
    "collapsed": false,
    "deletable": true,
    "editable": true
   },
   "outputs": [
    {
     "name": "stdout",
     "output_type": "stream",
     "text": [
      "Tests Passed\n"
     ]
    }
   ],
   "source": [
    "def pick_word(probabilities, int_to_vocab):\n",
    "    \"\"\"\n",
    "    Pick the next word in the generated text\n",
    "    :param probabilities: Probabilites of the next word\n",
    "    :param int_to_vocab: Dictionary of word ids as the keys and words as the values\n",
    "    :return: String of the predicted word\n",
    "    \"\"\"\n",
    "    # TODO: Implement Function\n",
    "    predicted_word = np.random.choice(list(int_to_vocab.values()), 1, p=probabilities)[0]\n",
    "    return predicted_word\n",
    "\n",
    "\n",
    "\"\"\"\n",
    "DON'T MODIFY ANYTHING IN THIS CELL THAT IS BELOW THIS LINE\n",
    "\"\"\"\n",
    "tests.test_pick_word(pick_word)"
   ]
  },
  {
   "cell_type": "markdown",
   "metadata": {
    "deletable": true,
    "editable": true
   },
   "source": [
    "## Generate TV Script\n",
    "This will generate the TV script for you.  Set `gen_length` to the length of TV script you want to generate."
   ]
  },
  {
   "cell_type": "code",
   "execution_count": 29,
   "metadata": {
    "collapsed": false,
    "deletable": true,
    "editable": true
   },
   "outputs": [
    {
     "name": "stdout",
     "output_type": "stream",
     "text": [
      "homer_simpson: well, if it isn't. i'm starting. i'm sweeter in everyone! i take her more.\n",
      "moe_szyslak:(mad) if i was some video and every bar there about all the mayor cards place they do it. i'm all bums.(to self) sure could be thinking with the back(loud, on instantly fat...\n",
      "carl_carlson:(amazed) well... and the princess celebrities never have to not nice. i'm joining like he'll go to the wife and the perfect hero.\n",
      "moe_szyslak: hey, you wanna need to me to find my new rationalizing of a pickle.\n",
      "\n",
      "\n",
      "moe_szyslak: i can't believe there's my old thought!\n",
      "moe_szyslak: yeah, but how could you sing a beer, a time where i have to--(hands to her and that...\n",
      "moe_szyslak: well, you come the little miss the time and they got a stool.\n",
      "moe_szyslak: uh, uh... what do you like to listen, i'm not a break.\n",
      "moe_szyslak: hey, i could win get they're to a beer telling your show.\n",
      "\n",
      "\n",
      "barney_gumble: well, i feel a yeah and i do!\n",
      "moe_szyslak:(back) i got this, bad, like, i know\" /(ice sobs) but, moe. you're their a girl.\n",
      "lenny_leonard: homer, you've been the wife-swapping, the best prime at never(raises full in, triple-sec) but they did, i've been the real tv.\n",
      "moe_szyslak: here put here. you lucky point at you.\n",
      "homer_simpson:(\n"
     ]
    }
   ],
   "source": [
    "gen_length = 300\n",
    "# homer_simpson, moe_szyslak, or Barney_Gumble\n",
    "prime_word = 'homer_simpson'\n",
    "\n",
    "\"\"\"\n",
    "DON'T MODIFY ANYTHING IN THIS CELL THAT IS BELOW THIS LINE\n",
    "\"\"\"\n",
    "loaded_graph = tf.Graph()\n",
    "with tf.Session(graph=loaded_graph) as sess:\n",
    "    # Load saved model\n",
    "    loader = tf.train.import_meta_graph(load_dir + '.meta')\n",
    "    loader.restore(sess, load_dir)\n",
    "\n",
    "    # Get Tensors from loaded model\n",
    "    input_text, initial_state, final_state, probs = get_tensors(loaded_graph)\n",
    "\n",
    "    # Sentences generation setup\n",
    "    gen_sentences = [prime_word + ':']\n",
    "    prev_state = sess.run(initial_state, {input_text: np.array([[1]])})\n",
    "\n",
    "    # Generate sentences\n",
    "    for n in range(gen_length):\n",
    "        # Dynamic Input\n",
    "        dyn_input = [[vocab_to_int[word] for word in gen_sentences[-seq_length:]]]\n",
    "        dyn_seq_length = len(dyn_input[0])\n",
    "\n",
    "        # Get Prediction\n",
    "        probabilities, prev_state = sess.run(\n",
    "            [probs, final_state],\n",
    "            {input_text: dyn_input, initial_state: prev_state})\n",
    "        \n",
    "        pred_word = pick_word(probabilities[dyn_seq_length-1], int_to_vocab)\n",
    "\n",
    "        gen_sentences.append(pred_word)\n",
    "    \n",
    "    # Remove tokens\n",
    "    tv_script = ' '.join(gen_sentences)\n",
    "    for key, token in token_dict.items():\n",
    "        ending = ' ' if key in ['\\n', '(', '\"'] else ''\n",
    "        tv_script = tv_script.replace(' ' + token.lower(), key)\n",
    "    tv_script = tv_script.replace('\\n ', '\\n')\n",
    "    tv_script = tv_script.replace('( ', '(')\n",
    "    \n",
    "    print(tv_script)"
   ]
  },
  {
   "cell_type": "markdown",
   "metadata": {
    "deletable": true,
    "editable": true
   },
   "source": [
    "# The TV Script is Nonsensical\n",
    "It's ok if the TV script doesn't make any sense.  We trained on less than a megabyte of text.  In order to get good results, you'll have to use a smaller vocabulary or get more data.  Luckly there's more data!  As we mentioned in the begging of this project, this is a subset of [another dataset](https://www.kaggle.com/wcukierski/the-simpsons-by-the-data).  We didn't have you train on all the data, because that would take too long.  However, you are free to train your neural network on all the data.  After you complete the project, of course.\n",
    "# Submitting This Project\n",
    "When submitting this project, make sure to run all the cells before saving the notebook. Save the notebook file as \"dlnd_tv_script_generation.ipynb\" and save it as a HTML file under \"File\" -> \"Download as\". Include the \"helper.py\" and \"problem_unittests.py\" files in your submission."
   ]
  }
 ],
 "metadata": {
  "kernelspec": {
   "display_name": "Python 3",
   "language": "python",
   "name": "python3"
  },
  "language_info": {
   "codemirror_mode": {
    "name": "ipython",
    "version": 3
   },
   "file_extension": ".py",
   "mimetype": "text/x-python",
   "name": "python",
   "nbconvert_exporter": "python",
   "pygments_lexer": "ipython3",
   "version": "3.5.2"
  },
  "widgets": {
   "state": {},
   "version": "1.1.2"
  }
 },
 "nbformat": 4,
 "nbformat_minor": 0
}
